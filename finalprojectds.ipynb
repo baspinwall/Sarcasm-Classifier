{
 "cells": [
  {
   "cell_type": "code",
   "execution_count": 1,
   "metadata": {},
   "outputs": [],
   "source": [
    "# Name: Brian Aspinwall\n",
    "# This project aims to determine whether or not a classification model can\n",
    "# be used to accurately identify sarcasm if/when it appears in news article\n",
    "# headlines.  The input data is sourced from kaggle and is a json file containing \n",
    "# ~25 000 entries in it, each with 3 fields: article_link, headline,\n",
    "# and is_sarcastic.  Only the headline field, containing headline text,\n",
    "# and the is_sarcastic field, denoting if a headline is sarcastic,\n",
    "# are used for the project.  I chose this project because I thought that\n",
    "# sarcasm would be a difficult form of language to identify by machine \n",
    "# learning models due to its relative complexity, and I wanted to see\n",
    "# how well a basic classification model would be able to function with it."
   ]
  },
  {
   "cell_type": "code",
   "execution_count": 2,
   "metadata": {},
   "outputs": [],
   "source": [
    "#sources used: kaggle.com, pandas api, classnotes \n",
    "#(preprocessing methodology and vectorization)\n",
    "#https://www.kaggle.com/rmisra/news-headlines-dataset-for-sarcasm-detection?select=Sarcasm_Headlines_Dataset_v2.json"
   ]
  },
  {
   "cell_type": "code",
   "execution_count": 2,
   "metadata": {},
   "outputs": [],
   "source": [
    "import pandas as pd\n",
    "import matplotlib.pyplot as plt\n",
    "%matplotlib inline\n",
    "import random\n",
    "from sklearn.model_selection import train_test_split\n",
    "from sklearn.naive_bayes import MultinomialNB\n",
    "from sklearn import metrics\n",
    "import nltk\n",
    "from nltk.tokenize import RegexpTokenizer\n",
    "from nltk.corpus import stopwords\n",
    "from nltk.stem import PorterStemmer\n",
    "from sklearn.feature_extraction.text import CountVectorizer\n",
    "from sklearn.metrics import f1_score\n",
    "\n",
    "#nltk.download('punkt')\n",
    "#nltk.download('stopwords')"
   ]
  },
  {
   "cell_type": "code",
   "execution_count": 4,
   "metadata": {},
   "outputs": [],
   "source": [
    "#create dataframe, check for nan, remove unnecessary columns, show data"
   ]
  },
  {
   "cell_type": "code",
   "execution_count": 5,
   "metadata": {},
   "outputs": [
    {
     "name": "stdout",
     "output_type": "stream",
     "text": [
      "headline        0\n",
      "is_sarcastic    0\n",
      "dtype: int64\n",
      "(26709, 2)\n"
     ]
    },
    {
     "data": {
      "text/html": [
       "<div>\n",
       "<style scoped>\n",
       "    .dataframe tbody tr th:only-of-type {\n",
       "        vertical-align: middle;\n",
       "    }\n",
       "\n",
       "    .dataframe tbody tr th {\n",
       "        vertical-align: top;\n",
       "    }\n",
       "\n",
       "    .dataframe thead th {\n",
       "        text-align: right;\n",
       "    }\n",
       "</style>\n",
       "<table border=\"1\" class=\"dataframe\">\n",
       "  <thead>\n",
       "    <tr style=\"text-align: right;\">\n",
       "      <th></th>\n",
       "      <th>headline</th>\n",
       "      <th>is_sarcastic</th>\n",
       "    </tr>\n",
       "  </thead>\n",
       "  <tbody>\n",
       "    <tr>\n",
       "      <th>0</th>\n",
       "      <td>former versace store clerk sues over secret 'b...</td>\n",
       "      <td>0</td>\n",
       "    </tr>\n",
       "    <tr>\n",
       "      <th>1</th>\n",
       "      <td>the 'roseanne' revival catches up to our thorn...</td>\n",
       "      <td>0</td>\n",
       "    </tr>\n",
       "    <tr>\n",
       "      <th>2</th>\n",
       "      <td>mom starting to fear son's web series closest ...</td>\n",
       "      <td>1</td>\n",
       "    </tr>\n",
       "    <tr>\n",
       "      <th>3</th>\n",
       "      <td>boehner just wants wife to listen, not come up...</td>\n",
       "      <td>1</td>\n",
       "    </tr>\n",
       "    <tr>\n",
       "      <th>4</th>\n",
       "      <td>j.k. rowling wishes snape happy birthday in th...</td>\n",
       "      <td>0</td>\n",
       "    </tr>\n",
       "  </tbody>\n",
       "</table>\n",
       "</div>"
      ],
      "text/plain": [
       "                                            headline  is_sarcastic\n",
       "0  former versace store clerk sues over secret 'b...             0\n",
       "1  the 'roseanne' revival catches up to our thorn...             0\n",
       "2  mom starting to fear son's web series closest ...             1\n",
       "3  boehner just wants wife to listen, not come up...             1\n",
       "4  j.k. rowling wishes snape happy birthday in th...             0"
      ]
     },
     "execution_count": 5,
     "metadata": {},
     "output_type": "execute_result"
    }
   ],
   "source": [
    "df = pd.read_json(\"Sarcasm_Headlines_Dataset.json\", lines=True)\n",
    "df = df[[\"headline\",\"is_sarcastic\"]]\n",
    "print(df.isna().sum())\n",
    "print(df.shape)\n",
    "df.head()"
   ]
  },
  {
   "cell_type": "code",
   "execution_count": 6,
   "metadata": {},
   "outputs": [],
   "source": [
    "#show basic statistics"
   ]
  },
  {
   "cell_type": "code",
   "execution_count": 7,
   "metadata": {},
   "outputs": [
    {
     "name": "stdout",
     "output_type": "stream",
     "text": [
      "56.10468381444457 % are not sarcastic\n",
      "43.89531618555543 % are sarcastic\n"
     ]
    }
   ],
   "source": [
    "sarc = df[df.is_sarcastic == 1]\n",
    "nonSarc = df[df.is_sarcastic == 0]\n",
    "print(100 * nonSarc.size / df.size, \"% are not sarcastic\")\n",
    "print(100 * sarc.size / df.size, \"% are sarcastic\")"
   ]
  },
  {
   "cell_type": "code",
   "execution_count": 8,
   "metadata": {},
   "outputs": [],
   "source": [
    "#start work to show freq distributions for sarc/nonsarc headlines\n",
    "#remove punctuation/stop words"
   ]
  },
  {
   "cell_type": "code",
   "execution_count": 9,
   "metadata": {},
   "outputs": [],
   "source": [
    "tokenizer = RegexpTokenizer('\\w+') #remove non words\n",
    "stop_words = set(stopwords.words(\"english\"))\n",
    "\n",
    "sarcWords = [w for w in tokenizer.tokenize(' '.join(sarc[\"headline\"])) if w not in stop_words]\n",
    "nonSarcWords = [w for w in tokenizer.tokenize(' '.join(nonSarc[\"headline\"])) if w not in stop_words]\n"
   ]
  },
  {
   "cell_type": "code",
   "execution_count": 10,
   "metadata": {},
   "outputs": [],
   "source": [
    "#show distributions"
   ]
  },
  {
   "cell_type": "code",
   "execution_count": 11,
   "metadata": {},
   "outputs": [
    {
     "data": {
      "text/plain": [
       "[('man', 1154),\n",
       " ('new', 843),\n",
       " ('area', 480),\n",
       " ('report', 426),\n",
       " ('nation', 339),\n",
       " ('woman', 319),\n",
       " ('year', 308),\n",
       " ('one', 273),\n",
       " ('old', 267),\n",
       " ('time', 252),\n",
       " ('day', 245),\n",
       " ('trump', 238),\n",
       " ('study', 213),\n",
       " ('still', 212),\n",
       " ('u', 207),\n",
       " ('like', 194),\n",
       " ('first', 193),\n",
       " ('get', 190),\n",
       " ('back', 189),\n",
       " ('family', 186)]"
      ]
     },
     "metadata": {},
     "output_type": "display_data"
    },
    {
     "data": {
      "text/plain": [
       "[('trump', 1446),\n",
       " ('new', 680),\n",
       " ('donald', 458),\n",
       " ('says', 349),\n",
       " ('women', 317),\n",
       " ('one', 268),\n",
       " ('u', 263),\n",
       " ('year', 244),\n",
       " ('first', 242),\n",
       " ('world', 241),\n",
       " ('man', 241),\n",
       " ('people', 241),\n",
       " ('obama', 235),\n",
       " ('day', 226),\n",
       " ('make', 217),\n",
       " ('gop', 215),\n",
       " ('like', 213),\n",
       " ('5', 212),\n",
       " ('black', 208),\n",
       " ('get', 207)]"
      ]
     },
     "metadata": {},
     "output_type": "display_data"
    }
   ],
   "source": [
    "sarcFreqDist = nltk.FreqDist(sarcWords)\n",
    "nonSarcFreqDist = nltk.FreqDist(nonSarcWords)\n",
    "display(sarcFreqDist.most_common(20))\n",
    "display(nonSarcFreqDist.most_common(20))"
   ]
  },
  {
   "cell_type": "code",
   "execution_count": 12,
   "metadata": {},
   "outputs": [],
   "source": [
    "#plot distributions"
   ]
  },
  {
   "cell_type": "code",
   "execution_count": 13,
   "metadata": {},
   "outputs": [
    {
     "data": {
      "image/png": "[encoded data removed]",
      "text/plain": [
       "<Figure size 432x288 with 1 Axes>"
      ]
     },
     "metadata": {
      "needs_background": "light"
     },
     "output_type": "display_data"
    },
    {
     "data": {
      "image/png": "[encoded data removed]",
      "text/plain": [
       "<Figure size 432x288 with 1 Axes>"
      ]
     },
     "metadata": {
      "needs_background": "light"
     },
     "output_type": "display_data"
    },
    {
     "data": {
      "text/plain": [
       "<AxesSubplot:xlabel='Samples', ylabel='Counts'>"
      ]
     },
     "execution_count": 13,
     "metadata": {},
     "output_type": "execute_result"
    }
   ],
   "source": [
    "nonSarcFreqDist.plot(30)\n",
    "sarcFreqDist.plot(30)"
   ]
  },
  {
   "cell_type": "code",
   "execution_count": 14,
   "metadata": {},
   "outputs": [],
   "source": [
    "#build X dataset in preparation for analysis"
   ]
  },
  {
   "cell_type": "code",
   "execution_count": 15,
   "metadata": {},
   "outputs": [
    {
     "data": {
      "text/html": [
       "<div>\n",
       "<style scoped>\n",
       "    .dataframe tbody tr th:only-of-type {\n",
       "        vertical-align: middle;\n",
       "    }\n",
       "\n",
       "    .dataframe tbody tr th {\n",
       "        vertical-align: top;\n",
       "    }\n",
       "\n",
       "    .dataframe thead th {\n",
       "        text-align: right;\n",
       "    }\n",
       "</style>\n",
       "<table border=\"1\" class=\"dataframe\">\n",
       "  <thead>\n",
       "    <tr style=\"text-align: right;\">\n",
       "      <th></th>\n",
       "      <th>headline</th>\n",
       "    </tr>\n",
       "  </thead>\n",
       "  <tbody>\n",
       "    <tr>\n",
       "      <th>0</th>\n",
       "      <td>former versace store clerk sues over secret 'b...</td>\n",
       "    </tr>\n",
       "    <tr>\n",
       "      <th>1</th>\n",
       "      <td>the 'roseanne' revival catches up to our thorn...</td>\n",
       "    </tr>\n",
       "    <tr>\n",
       "      <th>2</th>\n",
       "      <td>mom starting to fear son's web series closest ...</td>\n",
       "    </tr>\n",
       "    <tr>\n",
       "      <th>3</th>\n",
       "      <td>boehner just wants wife to listen, not come up...</td>\n",
       "    </tr>\n",
       "    <tr>\n",
       "      <th>4</th>\n",
       "      <td>j.k. rowling wishes snape happy birthday in th...</td>\n",
       "    </tr>\n",
       "    <tr>\n",
       "      <th>...</th>\n",
       "      <td>...</td>\n",
       "    </tr>\n",
       "    <tr>\n",
       "      <th>26704</th>\n",
       "      <td>american politics in moral free-fall</td>\n",
       "    </tr>\n",
       "    <tr>\n",
       "      <th>26705</th>\n",
       "      <td>america's best 20 hikes</td>\n",
       "    </tr>\n",
       "    <tr>\n",
       "      <th>26706</th>\n",
       "      <td>reparations and obama</td>\n",
       "    </tr>\n",
       "    <tr>\n",
       "      <th>26707</th>\n",
       "      <td>israeli ban targeting boycott supporters raise...</td>\n",
       "    </tr>\n",
       "    <tr>\n",
       "      <th>26708</th>\n",
       "      <td>gourmet gifts for the foodie 2014</td>\n",
       "    </tr>\n",
       "  </tbody>\n",
       "</table>\n",
       "<p>26709 rows × 1 columns</p>\n",
       "</div>"
      ],
      "text/plain": [
       "                                                headline\n",
       "0      former versace store clerk sues over secret 'b...\n",
       "1      the 'roseanne' revival catches up to our thorn...\n",
       "2      mom starting to fear son's web series closest ...\n",
       "3      boehner just wants wife to listen, not come up...\n",
       "4      j.k. rowling wishes snape happy birthday in th...\n",
       "...                                                  ...\n",
       "26704               american politics in moral free-fall\n",
       "26705                            america's best 20 hikes\n",
       "26706                              reparations and obama\n",
       "26707  israeli ban targeting boycott supporters raise...\n",
       "26708                  gourmet gifts for the foodie 2014\n",
       "\n",
       "[26709 rows x 1 columns]"
      ]
     },
     "execution_count": 15,
     "metadata": {},
     "output_type": "execute_result"
    }
   ],
   "source": [
    "X = df[\"headline\"].to_frame()\n",
    "X"
   ]
  },
  {
   "cell_type": "code",
   "execution_count": 16,
   "metadata": {},
   "outputs": [],
   "source": [
    "#preprocess data, tokenizing with words only, lowercased, stopwords\n",
    "#removed, and stemmed"
   ]
  },
  {
   "cell_type": "code",
   "execution_count": 17,
   "metadata": {},
   "outputs": [
    {
     "data": {
      "text/html": [
       "<div>\n",
       "<style scoped>\n",
       "    .dataframe tbody tr th:only-of-type {\n",
       "        vertical-align: middle;\n",
       "    }\n",
       "\n",
       "    .dataframe tbody tr th {\n",
       "        vertical-align: top;\n",
       "    }\n",
       "\n",
       "    .dataframe thead th {\n",
       "        text-align: right;\n",
       "    }\n",
       "</style>\n",
       "<table border=\"1\" class=\"dataframe\">\n",
       "  <thead>\n",
       "    <tr style=\"text-align: right;\">\n",
       "      <th></th>\n",
       "      <th>0</th>\n",
       "    </tr>\n",
       "  </thead>\n",
       "  <tbody>\n",
       "    <tr>\n",
       "      <th>0</th>\n",
       "      <td>former versac store clerk sue secret black cod...</td>\n",
       "    </tr>\n",
       "    <tr>\n",
       "      <th>1</th>\n",
       "      <td>roseann reviv catch thorni polit mood better wors</td>\n",
       "    </tr>\n",
       "    <tr>\n",
       "      <th>2</th>\n",
       "      <td>mom start fear son web seri closest thing gran...</td>\n",
       "    </tr>\n",
       "    <tr>\n",
       "      <th>3</th>\n",
       "      <td>boehner want wife listen come altern debt redu...</td>\n",
       "    </tr>\n",
       "    <tr>\n",
       "      <th>4</th>\n",
       "      <td>j k rowl wish snape happi birthday magic way</td>\n",
       "    </tr>\n",
       "  </tbody>\n",
       "</table>\n",
       "</div>"
      ],
      "text/plain": [
       "                                                   0\n",
       "0  former versac store clerk sue secret black cod...\n",
       "1  roseann reviv catch thorni polit mood better wors\n",
       "2  mom start fear son web seri closest thing gran...\n",
       "3  boehner want wife listen come altern debt redu...\n",
       "4       j k rowl wish snape happi birthday magic way"
      ]
     },
     "execution_count": 17,
     "metadata": {},
     "output_type": "execute_result"
    }
   ],
   "source": [
    "stemmer = PorterStemmer()\n",
    "\n",
    "def preprocess(s) :\n",
    "    w = tokenizer.tokenize(s.lower())         # separate into words and lowercase each word\n",
    "    w = [word for word in w if word not in stop_words]    # remove stop words\n",
    "    w = [stemmer.stem(word) for word in w]    # find stem of each word\n",
    "    return ' '.join(w)         # join back into a string\n",
    "\n",
    "# with each row, preprocess the text string, and store it in the X DataFrame\n",
    "X_processed = pd.Series([preprocess(X.loc[i,'headline']) for i in range(len(X))]).to_frame()\n",
    "X_processed.head()   "
   ]
  },
  {
   "cell_type": "code",
   "execution_count": 18,
   "metadata": {},
   "outputs": [],
   "source": [
    "#vectorize x set"
   ]
  },
  {
   "cell_type": "code",
   "execution_count": 19,
   "metadata": {},
   "outputs": [
    {
     "name": "stdout",
     "output_type": "stream",
     "text": [
      "  (0, 1827)\t1\n",
      "  (0, 3126)\t1\n",
      "  (0, 3215)\t1\n",
      "  (0, 5956)\t1\n",
      "  (0, 9896)\t1\n",
      "  (0, 13561)\t1\n",
      "  (0, 13843)\t1\n",
      "  (0, 14708)\t1\n",
      "  (0, 14878)\t1\n",
      "  (0, 16457)\t1\n"
     ]
    },
    {
     "data": {
      "text/plain": [
       "(26709, 17320)"
      ]
     },
     "execution_count": 19,
     "metadata": {},
     "output_type": "execute_result"
    }
   ],
   "source": [
    "vectorizer = CountVectorizer()\n",
    "vectorizer.fit(X_processed[0])\n",
    "X_vectors = vectorizer.transform(X_processed[0])\n",
    "print(X_vectors[0])\n",
    "X_vectors.shape"
   ]
  },
  {
   "cell_type": "code",
   "execution_count": 20,
   "metadata": {},
   "outputs": [],
   "source": [
    "#build y set"
   ]
  },
  {
   "cell_type": "code",
   "execution_count": 21,
   "metadata": {},
   "outputs": [
    {
     "data": {
      "text/plain": [
       "0        0\n",
       "1        0\n",
       "2        1\n",
       "3        1\n",
       "4        0\n",
       "        ..\n",
       "26704    0\n",
       "26705    0\n",
       "26706    0\n",
       "26707    0\n",
       "26708    0\n",
       "Name: is_sarcastic, Length: 26709, dtype: int64"
      ]
     },
     "execution_count": 21,
     "metadata": {},
     "output_type": "execute_result"
    }
   ],
   "source": [
    "y = df[\"is_sarcastic\"]\n",
    "y"
   ]
  },
  {
   "cell_type": "code",
   "execution_count": 22,
   "metadata": {},
   "outputs": [],
   "source": [
    "#split the sets"
   ]
  },
  {
   "cell_type": "code",
   "execution_count": 23,
   "metadata": {},
   "outputs": [
    {
     "name": "stdout",
     "output_type": "stream",
     "text": [
      "(21367, 17320) (21367,) (5342, 17320) (5342,)\n"
     ]
    }
   ],
   "source": [
    "X_train, X_test, y_train, y_test = train_test_split(X_vectors,y,test_size=0.2)\n",
    "print(X_train.shape, y_train.shape, X_test.shape, y_test.shape)"
   ]
  },
  {
   "cell_type": "code",
   "execution_count": 24,
   "metadata": {},
   "outputs": [],
   "source": [
    "#train multinomial naive bayes classifier with data\n",
    "#and predict based on test split set"
   ]
  },
  {
   "cell_type": "code",
   "execution_count": 25,
   "metadata": {},
   "outputs": [],
   "source": [
    "classifier = MultinomialNB()\n",
    "classifier.fit(X_train, y_train)\n",
    "y_pred = classifier.predict(X_test)"
   ]
  },
  {
   "cell_type": "code",
   "execution_count": 26,
   "metadata": {},
   "outputs": [],
   "source": [
    "#show accuracy, confusion matrix, f score"
   ]
  },
  {
   "cell_type": "code",
   "execution_count": 27,
   "metadata": {},
   "outputs": [
    {
     "name": "stdout",
     "output_type": "stream",
     "text": [
      "0.7985773118682141\n"
     ]
    },
    {
     "data": {
      "text/plain": [
       "array([[2502,  491],\n",
       "       [ 585, 1764]])"
      ]
     },
     "metadata": {},
     "output_type": "display_data"
    },
    {
     "name": "stdout",
     "output_type": "stream",
     "text": [
      "score: 0.798\n"
     ]
    }
   ],
   "source": [
    "print(metrics.accuracy_score(y_test, y_pred))\n",
    "display(metrics.confusion_matrix(y_test, y_pred, labels=[0,1]))\n",
    "print(f\"score: {f1_score(y_test, y_pred, average='weighted'):.3f}\")"
   ]
  },
  {
   "cell_type": "code",
   "execution_count": 1,
   "metadata": {},
   "outputs": [],
   "source": [
    "#The results for accuracy and f1 score are reasonably promising at ~80% for both.\n",
    "#From the f1 score and accuracy matching up at 80%,the model performs\n",
    "#approximately equally precision and recall wise, with both at a reasonable proficiency.\n",
    "#Precision and recall being reasonable means the model \"caught\" most positive values\n",
    "#and made relatively few incorrect positive predictions.\n",
    "#The confusion matrix shows that there is a slightly greater proportion of false\n",
    "#positive predictions on sarcastic headlines as opposed to non sarcastic ones, but both are \n",
    "#reasonable, with roughly ~1/4 of sarcastic predictions being incorrect, and ~1/5 \n",
    "#non sarcastic predictions being incorrect.  The model similarly \"caught\" a greater proportion\n",
    "#of the nonsarcastic headlines than sarcastic ones."
   ]
  },
  {
   "cell_type": "code",
   "execution_count": 29,
   "metadata": {},
   "outputs": [],
   "source": [
    "#Overall, for a model aimed purely at identifying sarcastic headlines,\n",
    "#the model was somewhat lacking, catching only 1764/2349, or approximately 75% of the sarcastic headlines,\n",
    "#but it showed promise, and slightly superior proficiency in predicting non sarcastic headlines.\n",
    "#The data set didn't seem significantly flawed, but seems to have taken most if not all\n",
    "#sarcastic headlines from the onion.  This could potentially add bias to certain forms of \n",
    "#sarcasm/ignore others, affecting the viability of the model in identifying \n",
    "#headlines from other sources.\n",
    "#One way to improve the project would be to hand build a data set using newsapi\n",
    "#to import article headlines and then review them for sarcasm, although it \n",
    "#would be time consuming."
   ]
  }
 ],
 "metadata": {
  "kernelspec": {
   "display_name": "Python 3",
   "language": "python",
   "name": "python3"
  },
  "language_info": {
   "codemirror_mode": {
    "name": "ipython",
    "version": 3
   },
   "file_extension": ".py",
   "mimetype": "text/x-python",
   "name": "python",
   "nbconvert_exporter": "python",
   "pygments_lexer": "ipython3",
   "version": "3.8.8"
  }
 },
 "nbformat": 4,
 "nbformat_minor": 4
}
